{
 "cells": [
  {
   "cell_type": "markdown",
   "id": "fbdb6643-0d33-4e4a-ba21-e4bb68d65710",
   "metadata": {},
   "source": [
    "## Summary\n",
    "\n",
    "This notebook consists of several useful functions for live tracking the Twitch Content creator status, the types of games they play, activities etc.\n",
    "\n",
    "Moreover, utilizing Twitch API's Helix package, we are capable of directly hunt for clips and content that the viewers of the streamers generate.\n",
    "The API has a functionality of filtering clips within a specific timeframe, enabling us to target and hunt for clips that happen when very specific actions happen in the game\n",
    "\n",
    "------------------------------------------------------\n",
    "\n",
    "This notebook is only the 2nd in the process of creating an AI enabled API that monitors content creators playing game Valorant, recognizes significant events in the game, such as 4-5 kills by the protagonist, solo clutch etc hunts for the clips that have been captured during these events, downloads the clips and uploads to Youtube.\n",
    "\n",
    "So the order of operations is:\n",
    "\n",
    "1. AI - using voice recognition to identify significant game events\n",
    "    - AI fixes the date and time of the event happening\n",
    "2. Twitch API enables us to go and check the clips of the given content creator at the time of the event\n",
    "    - We find and download the popular clip to the local machine/virtual server\n",
    "3. We process and edit the video in python, adding an intro and outro and upload it automatically to Youtube\n",
    "    - For every video we add customized captions, tags, descriptions etc"
   ]
  },
  {
   "cell_type": "code",
   "execution_count": null,
   "id": "599aab90-8b89-4299-9867-5759c8a4f212",
   "metadata": {},
   "outputs": [],
   "source": []
  },
  {
   "cell_type": "markdown",
   "id": "eed0beed-5557-4120-8f3b-1e61e8819edc",
   "metadata": {},
   "source": [
    "## Check streamer status"
   ]
  },
  {
   "cell_type": "code",
   "execution_count": null,
   "id": "a1ee41b7-ab43-4d55-b97c-9e49088bf20e",
   "metadata": {},
   "outputs": [],
   "source": [
    "import requests\n",
    "\n",
    "## Given the registered API ID and secret code, we can send an HTML request and see what is the status of the given streamer\n",
    "## We also generate an OAuth token to initialize the TwitchHelix\n",
    "client_id = 'XYZ'\n",
    "client_secret = 'YBB'\n",
    "streamer_name = 'tarik'\n",
    "\n",
    "body = {\n",
    "    'client_id': client_id,\n",
    "    'client_secret': client_secret,\n",
    "    \"grant_type\": 'client_credentials'\n",
    "}\n",
    "r = requests.post('https://id.twitch.tv/oauth2/token', body)\n",
    "\n",
    "#data output\n",
    "keys = r.json();\n",
    "\n",
    "print(keys)\n",
    "\n",
    "headers = {\n",
    "    'Client-ID': client_id,\n",
    "    'Authorization': 'Bearer ' + keys['access_token']\n",
    "}\n",
    "\n",
    "print(headers)\n",
    "\n",
    "stream = requests.get('https://api.twitch.tv/helix/streams?user_login=' + streamer_name, headers=headers)\n",
    "\n",
    "stream_data = stream.json();\n",
    "\n",
    "print(stream_data);\n",
    "\n",
    "if len(stream_data['data']) == 1:\n",
    "    print(streamer_name + ' is live: ' + stream_data['data'][0]['title'] + ' playing ' + stream_data['data'][0]['game_name']);\n",
    "else:\n",
    "    print(streamer_name + ' is not live');"
   ]
  },
  {
   "cell_type": "markdown",
   "id": "035da490-d422-4b09-9834-cd4b0b883c5f",
   "metadata": {},
   "source": [
    "## Twitch package"
   ]
  },
  {
   "cell_type": "code",
   "execution_count": 2,
   "id": "70082c36-0d55-4939-806f-a6c475aea6b7",
   "metadata": {},
   "outputs": [],
   "source": [
    "import twitch"
   ]
  },
  {
   "cell_type": "code",
   "execution_count": 3,
   "id": "17a85a5c-1354-4963-aadd-f93db1f20a7c",
   "metadata": {
    "tags": []
   },
   "outputs": [],
   "source": [
    "client = twitch.TwitchHelix(client_id='TTT', oauth_token='AAA')"
   ]
  },
  {
   "cell_type": "code",
   "execution_count": 56,
   "id": "71e708df-a011-4275-9b59-445a0ab9eb81",
   "metadata": {},
   "outputs": [
    {
     "name": "stdout",
     "output_type": "stream",
     "text": [
      "\n",
      "2021-12-26T18:18:22.519008-08:00\n"
     ]
    }
   ],
   "source": [
    "## Choosing specific time periods to retrieve the Twitch Clips\n",
    "from datetime import datetime, timezone\n",
    "from datetime import timedelta\n",
    "local_time = datetime.now(timezone.utc).astimezone()\n",
    "print()\n",
    "print(local_time.isoformat())\n",
    "\n",
    "## Set up the time delta\n",
    "n = 1\n",
    "# Add 15 minutes to datetime object\n",
    "final_time = local_time + timedelta(days=-n)\n",
    "final_time_str = final_time.strftime('%d/%m/%Y %H:%M:%S.%f')\n",
    "print(final_time.isoformat())"
   ]
  },
  {
   "cell_type": "code",
   "execution_count": 40,
   "id": "84cab550-7875-44dd-93f8-c8c000310dc7",
   "metadata": {},
   "outputs": [],
   "source": [
    "## These two objects contain the top 100 popular clips (by No views) of the given creator\n",
    "## returns a list of dictionaries, each dictionary contains such information as:\n",
    "### game type, language, streamer name, views, link to the video etc\n",
    "\n",
    "results = client.get_clips(broadcaster_id = '36340781', page_size = 100, started_at = final_time.isoformat(),\n",
    "                          ended_at = local_time.isoformat())\n",
    "\n",
    "games = client.get_clips(game_id = '516575', page_size = 100, started_at = final_time.isoformat(),\n",
    "                          ended_at = local_time.isoformat())"
   ]
  },
  {
   "cell_type": "code",
   "execution_count": 55,
   "id": "3ea50cdb-4bb8-41e0-9504-3a7b01b867c1",
   "metadata": {},
   "outputs": [
    {
     "data": {
      "text/plain": [
       "{'id': 'ImpartialYawningAubergineFeelsBadMan-PupFQugQWb58rSD_',\n",
       " 'url': 'https://clips.twitch.tv/ImpartialYawningAubergineFeelsBadMan-PupFQugQWb58rSD_',\n",
       " 'embed_url': 'https://clips.twitch.tv/embed?clip=ImpartialYawningAubergineFeelsBadMan-PupFQugQWb58rSD_',\n",
       " 'broadcaster_id': '36340781',\n",
       " 'broadcaster_name': 'tarik',\n",
       " 'creator_id': '43991108',\n",
       " 'creator_name': 'ktodd76',\n",
       " 'video_id': '1242726352',\n",
       " 'game_id': '516575',\n",
       " 'language': 'en',\n",
       " 'title': 'When was the last time we were all together?',\n",
       " 'view_count': 454,\n",
       " 'created_at': datetime.datetime(2021, 12, 25, 3, 3, 43),\n",
       " 'thumbnail_url': 'https://clips-media-assets2.twitch.tv/44168603308-offset-4848-preview-480x272.jpg',\n",
       " 'duration': 29.3}"
      ]
     },
     "execution_count": 55,
     "metadata": {},
     "output_type": "execute_result"
    }
   ],
   "source": [
    "## One of the examples\n",
    "results[8]"
   ]
  },
  {
   "cell_type": "code",
   "execution_count": null,
   "id": "7e9b3cb6-6aa5-4981-a487-e3da71c84c2a",
   "metadata": {},
   "outputs": [
    {
     "name": "stdout",
     "output_type": "stream",
     "text": [
      "https://clips.twitch.tv/CarelessSingleSpindleThunBeast-gi7ElfDKRJ-tRpjn\n"
     ]
    }
   ],
   "source": [
    "### With this, we also can search for specific clips that a given user has created, in this example it's me\n",
    "for i in results:\n",
    "    if i['creator_name'] == \"GuassianNormal\":\n",
    "        print(i['url'])\n",
    "        break"
   ]
  },
  {
   "cell_type": "code",
   "execution_count": null,
   "id": "74beb993-54c5-4fcf-b147-11b4c05d7117",
   "metadata": {},
   "outputs": [],
   "source": []
  },
  {
   "cell_type": "markdown",
   "id": "40ef4015-be9d-4943-bb40-0c75154929de",
   "metadata": {},
   "source": [
    "## Download the clip here"
   ]
  },
  {
   "cell_type": "code",
   "execution_count": 28,
   "id": "8db5e5e0-2d75-488a-97c8-053c196c8b57",
   "metadata": {},
   "outputs": [
    {
     "data": {
      "text/plain": [
       "'https://clips-media-assets2.twitch.tv/AT-cm%7CYWZBd6vzvciVm9xXCkCNsQ.mp4'"
      ]
     },
     "execution_count": 28,
     "metadata": {},
     "output_type": "execute_result"
    }
   ],
   "source": [
    "## Once we have the video URL, we can change up a little bit the structure and download it from the given browser directly\n",
    "i['thumbnail_url'].split('-preview')[0] + \".mp4\""
   ]
  },
  {
   "cell_type": "code",
   "execution_count": 36,
   "id": "2af3df12-0191-42fa-8224-d8211e4b8f3c",
   "metadata": {},
   "outputs": [
    {
     "data": {
      "text/plain": [
       "True"
      ]
     },
     "execution_count": 36,
     "metadata": {},
     "output_type": "execute_result"
    }
   ],
   "source": [
    "## This code snippet takes the video URL and forces your browser to open it, directly downloading it into the default directory\n",
    "import webbrowser\n",
    "\n",
    "new = 2\n",
    "url = i['thumbnail_url'].split('-preview')[0] + \".mp4\"\n",
    "webbrowser.open(url, new = new)"
   ]
  },
  {
   "cell_type": "code",
   "execution_count": null,
   "id": "3cdd51da-38f9-4a4f-a3ab-279c23e079dd",
   "metadata": {},
   "outputs": [],
   "source": []
  },
  {
   "cell_type": "code",
   "execution_count": null,
   "id": "f8a519b8-c8b3-4ded-ab94-31ce6900c987",
   "metadata": {},
   "outputs": [],
   "source": []
  },
  {
   "cell_type": "code",
   "execution_count": null,
   "id": "2f8906a2-74b4-454b-9c21-fa0e00d13e43",
   "metadata": {},
   "outputs": [],
   "source": []
  },
  {
   "cell_type": "code",
   "execution_count": null,
   "id": "a280a659-a5bd-48be-8c03-3ee40e917c5a",
   "metadata": {},
   "outputs": [],
   "source": []
  }
 ],
 "metadata": {
  "kernelspec": {
   "display_name": "Python 3",
   "language": "python",
   "name": "python3"
  },
  "language_info": {
   "codemirror_mode": {
    "name": "ipython",
    "version": 3
   },
   "file_extension": ".py",
   "mimetype": "text/x-python",
   "name": "python",
   "nbconvert_exporter": "python",
   "pygments_lexer": "ipython3",
   "version": "3.8.8"
  }
 },
 "nbformat": 4,
 "nbformat_minor": 5
}
