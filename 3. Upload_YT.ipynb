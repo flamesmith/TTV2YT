{
 "cells": [
  {
   "cell_type": "markdown",
   "id": "b376e137-abbd-4fee-9131-d0f8a34a08fc",
   "metadata": {},
   "source": [
    "## Summary\n",
    "\n",
    "This notebook is taking care of the 3rd and final step of the overall application, when the downloaded and edited video is eventually uploaded to Youtube.\n",
    "\n",
    "Youtube API enables channel admins upload videos through Python environment, with options to automate the process of tagging, naming, writing descriptions etc.\n",
    "\n",
    "This notebook is unfinished at the moment, since there will be a lot of development needed to customize each video for every content creator. Moreover, for SEO relevant tags and captions need to be written. In order to avoid Copyright violations, in the descriptions the references to the clip creator and the streamer need to be added.\n",
    "\n",
    "---\n",
    "\n",
    "At the moment we can successfully upload the videos to my YT channel, however, the YT algorithm detects breach in terms and conditions and won't let the videos go public. My current hypothesis is that it's because of the Copyrights issues, and once we customize the video descriptions and ensure everything is in compliance with YT policies, this can be easily avoided.\n"
   ]
  },
  {
   "cell_type": "code",
   "execution_count": null,
   "id": "2abb0393-8aa9-49f0-a13f-445eb48ce85e",
   "metadata": {},
   "outputs": [],
   "source": []
  },
  {
   "cell_type": "markdown",
   "id": "5a9e0e65-38c5-475b-b6ba-3edc7ebea037",
   "metadata": {},
   "source": [
    "## Login and authenticate to Youtube API"
   ]
  },
  {
   "cell_type": "code",
   "execution_count": 1,
   "id": "7b84eabf-5913-4034-8f39-3651a695b162",
   "metadata": {},
   "outputs": [
    {
     "name": "stdout",
     "output_type": "stream",
     "text": [
      "client_secret_Google.json-youtube-v3-(['https://www.googleapis.com/auth/youtube.upload'],)\n",
      "['https://www.googleapis.com/auth/youtube.upload']\n",
      "youtube service created successfully\n"
     ]
    }
   ],
   "source": [
    "## This chunk of code will log-in to Google API and authenticate\n",
    "from Google import Create_Service\n",
    "from googleapiclient.http import MediaFileUpload\n",
    "\n",
    "CLIENT_SECRETS_FILE = \"client_secret_Google.json\"\n",
    "\n",
    "# This OAuth 2.0 access scope allows an application to upload files to the\n",
    "# authenticated user's YouTube channel, but doesn't allow other types of access.\n",
    "YOUTUBE_UPLOAD_SCOPE = [\"https://www.googleapis.com/auth/youtube.upload\"]\n",
    "YOUTUBE_API_SERVICE_NAME = \"youtube\"\n",
    "YOUTUBE_API_VERSION = \"v3\"\n",
    "\n",
    "service = Create_Service(CLIENT_SECRETS_FILE,\n",
    "                        YOUTUBE_API_SERVICE_NAME,\n",
    "                        YOUTUBE_API_VERSION,\n",
    "                        YOUTUBE_UPLOAD_SCOPE)"
   ]
  },
  {
   "cell_type": "code",
   "execution_count": null,
   "id": "c3faf5b6-7bc3-4e82-af28-0a5e65efd250",
   "metadata": {},
   "outputs": [],
   "source": []
  },
  {
   "cell_type": "markdown",
   "id": "5211f03e-6aa6-4a26-bce5-18789164562e",
   "metadata": {},
   "source": [
    "## Setting up video parameters and uploading"
   ]
  },
  {
   "cell_type": "code",
   "execution_count": 2,
   "id": "16291809-4ab2-4d0e-98f4-f3483e8151cb",
   "metadata": {},
   "outputs": [],
   "source": [
    "## This helps us to set up the parameters for uploading the video\n",
    "\n",
    "## The datetime here can be used to schedule the exact upload date and time to YT\n",
    "import datetime\n",
    "upload_date_time = datetime.datetime(2021, 12, 26, 11, 40, 0).isoformat() + '.000Z'\n",
    "request_body = {\n",
    "    'snippet' : {'category': 20,\n",
    "                 'title': \"Tarik Video test\",\n",
    "                 'description': 'First video, uploading twitch content to YT',\n",
    "                 'tags': ['Valorant','Valorant_shorts','tarik']},\n",
    "    'status' : {'privacystatus':'public'},\n",
    "    'notifySubscribers' : False\n",
    "}"
   ]
  },
  {
   "cell_type": "code",
   "execution_count": 3,
   "id": "1d44f25d-5406-49d9-93f2-4f49b3d8c57b",
   "metadata": {},
   "outputs": [],
   "source": [
    "## Specify which exact video file we're trying to upload from the local directory\n",
    "mediaFile = MediaFileUpload('AT-cm_vV2x2SLifCOtPqNRDFs8RA.mp4')"
   ]
  },
  {
   "cell_type": "code",
   "execution_count": 4,
   "id": "265f3186-3377-43c6-9556-1cf8735e0cd0",
   "metadata": {},
   "outputs": [],
   "source": [
    "## And finally upload it\n",
    "response_upload = service.videos().insert(\n",
    "    part = 'snippet,status',\n",
    "    body = request_body,\n",
    "    media_body = mediaFile).execute()"
   ]
  },
  {
   "cell_type": "code",
   "execution_count": null,
   "id": "8d2d69ba-2e6d-4e7a-b518-3a570f43331f",
   "metadata": {},
   "outputs": [],
   "source": []
  },
  {
   "cell_type": "code",
   "execution_count": null,
   "id": "281f63ac-e714-4c68-9a18-384cfd9aa546",
   "metadata": {},
   "outputs": [],
   "source": []
  },
  {
   "cell_type": "code",
   "execution_count": null,
   "id": "e052a3df-17ec-4503-a995-3e54f933e8c9",
   "metadata": {},
   "outputs": [],
   "source": []
  },
  {
   "cell_type": "code",
   "execution_count": null,
   "id": "719090a4-3493-4dc1-87e6-a14a958d07fe",
   "metadata": {},
   "outputs": [],
   "source": []
  },
  {
   "cell_type": "code",
   "execution_count": null,
   "id": "2d410fc0-c2a3-4891-9042-eec48e52824e",
   "metadata": {},
   "outputs": [],
   "source": []
  },
  {
   "cell_type": "code",
   "execution_count": null,
   "id": "9be08767-81dc-4e00-8b67-cd2a7152aa7a",
   "metadata": {},
   "outputs": [],
   "source": []
  }
 ],
 "metadata": {
  "kernelspec": {
   "display_name": "Python 3",
   "language": "python",
   "name": "python3"
  },
  "language_info": {
   "codemirror_mode": {
    "name": "ipython",
    "version": 3
   },
   "file_extension": ".py",
   "mimetype": "text/x-python",
   "name": "python",
   "nbconvert_exporter": "python",
   "pygments_lexer": "ipython3",
   "version": "3.8.8"
  },
  "toc-autonumbering": false,
  "toc-showcode": false,
  "toc-showmarkdowntxt": true,
  "toc-showtags": false
 },
 "nbformat": 4,
 "nbformat_minor": 5
}
